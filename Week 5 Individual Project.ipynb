{
 "cells": [
  {
   "cell_type": "code",
   "execution_count": 12,
   "id": "1e01e617",
   "metadata": {},
   "outputs": [
    {
     "name": "stdout",
     "output_type": "stream",
     "text": [
      "Bank Monthly Loan Calculation\n",
      "The Principal Amount: GHS100000\n",
      "Interest: .075\n",
      "Number of years: 30\n",
      "Monthly Payment: GHS628.91\n"
     ]
    }
   ],
   "source": [
    "print(\"Bank Monthly Loan Calculation\")\n",
    "\n",
    "principal = int((input(\"The Principal Amount: GHS\")))\n",
    "P = principal\n",
    "\n",
    "annual_interest = float(input(\"Interest: \"))\n",
    "i = float(annual_interest/12)\n",
    "                  \n",
    "years_to_pay_loan = float(input(\"Number of years: \"))\n",
    "n = years_to_pay_loan * 12\n",
    "                  \n",
    "monthly_payment = (P*(i*(1 + i)**n))/((1 + i)**(n - 1))\n",
    "\n",
    "print(\"Monthly Payment: GHS{:.2f}\".format(monthly_payment))\n",
    "\n",
    "\n"
   ]
  },
  {
   "cell_type": "code",
   "execution_count": 23,
   "id": "8e24062d",
   "metadata": {},
   "outputs": [
    {
     "name": "stdout",
     "output_type": "stream",
     "text": [
      "Bank Monthly Loan Calculation\n",
      "The Principal Amount: GHS 100000\n",
      "Interest: 7.5\n",
      "Number of years: 30\n",
      "Monthly Payment: GHS 699.21\n",
      "The amount you'll pay every month is: GHS699.21\n",
      "The total amount payable at the end of the loan period is: GHS251717.22\n"
     ]
    }
   ],
   "source": [
    "print(\"Bank Monthly Loan Calculation\")\n",
    "\n",
    "\n",
    "principal = float(input(\"The Principal Amount: GHS \"))\n",
    "P = principal\n",
    "\n",
    "\n",
    "annual_interest = float(input(\"Interest: \"))\n",
    "i = float(annual_interest/12)/100\n",
    "\n",
    "\n",
    "years_to_pay_loan = float(input(\"Number of years: \"))\n",
    "n = years_to_pay_loan * 12\n",
    "\n",
    "\n",
    "monthly_payment = (P * (i * (1 + i)**n )) / ((1 + i)**n-1 )\n",
    "\n",
    "print(\"Monthly Payment: GHS {:.2f}\".format(monthly_payment))\n",
    "\n",
    "Total_Repayment = monthly_payment * n\n",
    "\n",
    "print(\"The amount you'll pay every month is: GHS{:.2f}\".format(monthly_payment))\n",
    "\n",
    "print(\"The total amount payable at the end of the loan period is: GHS{:.2f}\".format(Total_Repayment))"
   ]
  },
  {
   "cell_type": "code",
   "execution_count": null,
   "id": "c86a905f",
   "metadata": {},
   "outputs": [],
   "source": []
  }
 ],
 "metadata": {
  "kernelspec": {
   "display_name": "Python 3 (ipykernel)",
   "language": "python",
   "name": "python3"
  },
  "language_info": {
   "codemirror_mode": {
    "name": "ipython",
    "version": 3
   },
   "file_extension": ".py",
   "mimetype": "text/x-python",
   "name": "python",
   "nbconvert_exporter": "python",
   "pygments_lexer": "ipython3",
   "version": "3.11.3"
  }
 },
 "nbformat": 4,
 "nbformat_minor": 5
}
